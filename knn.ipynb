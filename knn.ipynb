{
 "cells": [
  {
   "cell_type": "code",
   "execution_count": 1,
   "metadata": {},
   "outputs": [],
   "source": [
    "import numpy as np\n",
    "import matplotlib.pyplot as plt\n",
    "from math import sqrt"
   ]
  },
  {
   "cell_type": "code",
   "execution_count": 39,
   "metadata": {},
   "outputs": [
    {
     "data": {
      "text/plain": [
       "[(1, 2)]"
      ]
     },
     "execution_count": 39,
     "metadata": {},
     "output_type": "execute_result"
    },
    {
     "data": {
      "image/png": "[encoded data removed]",
      "text/plain": [
       "<matplotlib.figure.Figure at 0x10fe54828>"
      ]
     },
     "metadata": {},
     "output_type": "display_data"
    }
   ],
   "source": [
    "#手造简单数据\n",
    "raw_data_X = [[2.12313,4.23151],\n",
    "             [2.342424,9.234242],\n",
    "             [1.2313123,4.12313],\n",
    "              [3.7865756,1.2313123]]\n",
    "raw_data_y=[0,1,1,1]\n",
    "\n",
    "X_train=np.array(raw_data_X)\n",
    "y_train=np.array(raw_data_y)\n",
    "#可视化看一眼\n",
    "plt.scatter(X_train[y_train==1,0],X_train[y_train==1,1],color='r')\n",
    "plt.scatter(X_train[y_train==0,0],X_train[y_train==0,1],color='b')\n",
    "x=np.array([3.524234,2.312313])\n",
    "plt.scatter(X_train[y_train==1,0],X_train[y_train==1,1],color='r')\n",
    "plt.scatter(X_train[y_train==0,0],X_train[y_train==0,1],color='b')\n",
    "plt.scatter(x[0],x[1],color='y')\n",
    "\n",
    "#knn计算\n",
    "dis=[]\n",
    "for data in X_train:\n",
    "    d=sqrt(np.sum((data-x)**2))\n",
    "    dis.append(d)    \n",
    "np.argsort(dis)\n",
    "index=np.argsort(dis)\n",
    "res=[y_train[i] for i in index[:3]]\n",
    "from collections import Counter\n",
    "vote=Counter(res)\n",
    "vote.most_common(1)"
   ]
  },
  {
   "cell_type": "code",
   "execution_count": 41,
   "metadata": {},
   "outputs": [
    {
     "data": {
      "text/plain": [
       "1"
      ]
     },
     "execution_count": 41,
     "metadata": {},
     "output_type": "execute_result"
    }
   ],
   "source": [
    "vote.most_common(1)[0][0]"
   ]
  },
  {
   "cell_type": "code",
   "execution_count": null,
   "metadata": {},
   "outputs": [],
   "source": []
  }
 ],
 "metadata": {
  "kernelspec": {
   "display_name": "Python 3",
   "language": "python",
   "name": "python3"
  },
  "language_info": {
   "codemirror_mode": {
    "name": "ipython",
    "version": 3
   },
   "file_extension": ".py",
   "mimetype": "text/x-python",
   "name": "python",
   "nbconvert_exporter": "python",
   "pygments_lexer": "ipython3",
   "version": "3.6.5"
  }
 },
 "nbformat": 4,
 "nbformat_minor": 2
}
